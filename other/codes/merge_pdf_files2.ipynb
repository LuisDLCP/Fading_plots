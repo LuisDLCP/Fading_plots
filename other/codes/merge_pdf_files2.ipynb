{
 "cells": [
  {
   "cell_type": "code",
   "execution_count": 29,
   "metadata": {},
   "outputs": [],
   "source": [
    "from PyPDF2 import PdfFileMerger\n",
    "import glob"
   ]
  },
  {
   "cell_type": "code",
   "execution_count": 30,
   "metadata": {},
   "outputs": [],
   "source": [
    "root_path = \"/home/luis/Desktop/Proyects_Files/LISN/GPSs/Tareas/Graficas_desvanecimientos/other/codes/\"\n",
    "input_path1 = root_path + \"input_files_s4/\"\n",
    "input_path2 = root_path + \"input_files_amplitude/\"\n",
    "output_path = root_path + \"output_files/\""
   ]
  },
  {
   "cell_type": "code",
   "execution_count": 31,
   "metadata": {},
   "outputs": [],
   "source": [
    "list_pdf_files1 = glob.glob(input_path1 + \"*.pdf\")"
   ]
  },
  {
   "cell_type": "code",
   "execution_count": 34,
   "metadata": {
    "collapsed": true
   },
   "outputs": [
    {
     "data": {
      "text/plain": [
       "['/home/luis/Desktop/Proyects_Files/LISN/GPSs/Tareas/Graficas_desvanecimientos/other/codes/input_files_amplitude/ljic_201009_CN0.pdf',\n",
       " '/home/luis/Desktop/Proyects_Files/LISN/GPSs/Tareas/Graficas_desvanecimientos/other/codes/input_files_amplitude/ljic_201008_CN0.pdf',\n",
       " '/home/luis/Desktop/Proyects_Files/LISN/GPSs/Tareas/Graficas_desvanecimientos/other/codes/input_files_amplitude/ljic_201007_CN0.pdf',\n",
       " '/home/luis/Desktop/Proyects_Files/LISN/GPSs/Tareas/Graficas_desvanecimientos/other/codes/input_files_amplitude/ljic_201006_CN0.pdf']"
      ]
     },
     "execution_count": 34,
     "metadata": {},
     "output_type": "execute_result"
    }
   ],
   "source": [
    "list_pdf_files2 = glob.glob(input_path2 + \"*.pdf\")\n",
    "#list_pdf_files2"
   ]
  },
  {
   "cell_type": "code",
   "execution_count": 33,
   "metadata": {},
   "outputs": [],
   "source": [
    "for file1 in list_pdf_files1:\n",
    "    file_name1 = file1[len(input_path1):]\n",
    "    file_name1 = file_name1[:12]\n",
    "    #print(file_name1)\n",
    "    merger = PdfFileMerger()\n",
    "    merger.append(file1)\n",
    "    #\n",
    "    for file2 in list_pdf_files2:\n",
    "        file_name2 = file2[len(input_path2):]\n",
    "        file_name2 = file_name2[:12]\n",
    "        #print(file_name2)\n",
    "        if file_name1 == file_name2:\n",
    "            #print(file2)\n",
    "            merger.append(file2)\n",
    "            break\n",
    "    merger.write(output_path + file_name1 + \"scint.pdf\")\n",
    "    merger.close()"
   ]
  },
  {
   "cell_type": "code",
   "execution_count": null,
   "metadata": {},
   "outputs": [],
   "source": []
  },
  {
   "cell_type": "code",
   "execution_count": null,
   "metadata": {},
   "outputs": [],
   "source": []
  },
  {
   "cell_type": "code",
   "execution_count": null,
   "metadata": {},
   "outputs": [],
   "source": []
  }
 ],
 "metadata": {
  "kernelspec": {
   "display_name": "Python 3",
   "language": "python",
   "name": "python3"
  },
  "language_info": {
   "codemirror_mode": {
    "name": "ipython",
    "version": 3
   },
   "file_extension": ".py",
   "mimetype": "text/x-python",
   "name": "python",
   "nbconvert_exporter": "python",
   "pygments_lexer": "ipython3",
   "version": "3.7.7"
  }
 },
 "nbformat": 4,
 "nbformat_minor": 2
}
